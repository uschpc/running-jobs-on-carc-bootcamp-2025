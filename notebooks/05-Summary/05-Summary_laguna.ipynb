{
 "cells": [
  {
   "cell_type": "markdown",
   "metadata": {},
   "source": [
    "# Things to note:\n",
    "### - Job length\n",
    "    - If over 24 hours, can this be split up? Can threads be increased?\n",
    "### - Many small files\n",
    "    - To be avoided!\n",
    "    - Group into larger files\n",
    "### - Data\n",
    "    - Save space by removing temp files\n",
    "    - Archive data as soon as reasonable\n",
    "    - Let us know if you are adding several TB of data\n",
    "### - Make sure you are not on the login node when you launch an application\n",
    "    - You can check the system you are on by typing hostname\n",
    "### - Make sure you reserve as many processors as you need\n",
    "    - A mismatch here can increase your runtime or wait time\n",
    "### - Make sure you reserve as much RAM as needed\n",
    "    - Overestimating increases wait time, underestimating crashes\n",
    "\n",
    "# Resources\n",
    "\n",
    "### - [CARC home page](https://carc.usc.edu)\n",
    "### - [CARC User Forum](https://hpc-discourse.usc.edu/categories)\n",
    "### - [CARC Laguna home page](https://uschpc.github.io/regional-computing-website/)\n",
    "### - [SLURM quick reference](https://slurm.schedmd.com/pdfs/summary.pdf)\n",
    "\n",
    "# Support\n",
    "\n",
    "### - [User support page](https://uschpc.github.io/regional-computing-website/user-support.html) and read our guides\n",
    "### - [Submit a ticket](https://uschpc.github.io/regional-computing-website/user-support/submit-ticket.html)\n",
    "\n",
    "\n",
    "\n",
    "\n",
    "\n"
   ]
  },
  {
   "cell_type": "code",
   "execution_count": null,
   "metadata": {},
   "outputs": [],
   "source": []
  }
 ],
 "metadata": {
  "kernelspec": {
   "display_name": "Python 3 (ipykernel)",
   "language": "python",
   "name": "python3"
  },
  "language_info": {
   "codemirror_mode": {
    "name": "ipython",
    "version": 3
   },
   "file_extension": ".py",
   "mimetype": "text/x-python",
   "name": "python",
   "nbconvert_exporter": "python",
   "pygments_lexer": "ipython3",
   "version": "3.12.2"
  }
 },
 "nbformat": 4,
 "nbformat_minor": 4
}
